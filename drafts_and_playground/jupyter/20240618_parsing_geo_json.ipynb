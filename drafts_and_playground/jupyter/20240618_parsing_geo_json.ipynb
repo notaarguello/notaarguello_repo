{
 "cells": [
  {
   "cell_type": "code",
   "execution_count": null,
   "metadata": {},
   "outputs": [],
   "source": [
    "import simplekml\n",
    "import geojson\n",
    "from typing import Mapping, Iterable, Any"
   ]
  },
  {
   "cell_type": "code",
   "execution_count": null,
   "metadata": {},
   "outputs": [],
   "source": [
    "def export_as_kml(\n",
    "        input_iterable:Iterable[Mapping[str, Any]], \n",
    "        name_field:str, \n",
    "        desc_field:str, \n",
    "        geo_field:str, \n",
    "        output_file:str) -> None:\n",
    "    kml = simplekml.Kml()\n",
    "    \n",
    "    for row in input_iterable:\n",
    "        name = row[name_field]\n",
    "        desc = row[desc_field]\n",
    "        geo = row[geo_field]\n",
    "\n",
    "        # Parse the GeoJSON data\n",
    "        geojson_obj = geojson.loads(geo)\n",
    "\n",
    "        # Handle Polygons and MultiPolygons\n",
    "        if geojson_obj['type'] == 'Polygon':\n",
    "            pol = kml.newpolygon(name=name, description=desc)\n",
    "            pol.outerboundaryis = [(coord[0], coord[1]) for coord in geojson_obj['coordinates'][0]]\n",
    "            pol.style.polystyle.color = '990000ff'\n",
    "            pol.style.polystyle.outline = 1\n",
    "        elif geojson_obj['type'] == 'MultiPolygon':\n",
    "            multigeom = kml.newmultigeometry(name=name, description=desc)\n",
    "            for polygon in geojson_obj['coordinates']:\n",
    "                pol = multigeom.newpolygon(name=name, description=desc)\n",
    "                pol.outerboundaryis = [(coord[0], coord[1]) for coord in polygon[0]]\n",
    "                pol.style.polystyle.color = '990000ff'\n",
    "                pol.style.polystyle.outline = 1\n",
    "\n",
    "    kml.save(output_file)"
   ]
  }
 ],
 "metadata": {
  "language_info": {
   "name": "python"
  }
 },
 "nbformat": 4,
 "nbformat_minor": 2
}

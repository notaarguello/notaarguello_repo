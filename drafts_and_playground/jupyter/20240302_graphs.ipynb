{
 "cells": [
  {
   "cell_type": "code",
   "execution_count": 43,
   "metadata": {},
   "outputs": [],
   "source": [
    "from typing import TypedDict, List, Callable, Generator, Any, Optional\n",
    "\n"
   ]
  },
  {
   "cell_type": "code",
   "execution_count": null,
   "metadata": {},
   "outputs": [],
   "source": [
    "class Node(TypedDict):\n",
    "    data: Any\n",
    "    children: List['Node']\n",
    "\n",
    "OperationFunction = Callable[[Any, Node, List[Any]], Any]\n",
    "\n",
    "def graph_operation(operation: OperationFunction) -> Callable[[Any, Node, List[Any]], Generator[Any, None, None]]:\n",
    "    def recursive_wrapper(lookup_value: Any, node: Node, acum: List[Any] = []) -> Generator[Any, None, None]:\n",
    "        yield operation(lookup_value, node, acum)\n",
    "        new_acum = acum + [node['data']]\n",
    "        \n",
    "        for child in node['children']:\n",
    "            for ret_val in recursive_wrapper(lookup_value, child, new_acum):\n",
    "                yield ret_val\n",
    "    return recursive_wrapper\n",
    "\n",
    "@graph_operation\n",
    "def print_nodes(lookup_value:str, node:Node, acum:Optional[List[Any]]=[]) -> None:\n",
    "    if node is not None and node['data'].startswith(lookup_value):\n",
    "        print(f\"Visited node: {node['data']} children of {str(acum)}\")"
   ]
  },
  {
   "cell_type": "code",
   "execution_count": null,
   "metadata": {},
   "outputs": [],
   "source": [
    "def graph_operation(operation):\n",
    "    def recursive_warper(lookup_value, node, acum):\n",
    "        yield operation(lookup_value, node, acum)\n",
    "        new_acum = acum + [node['data']]\n",
    "        \n",
    "        for child in node['children']:\n",
    "            for ret_val in recursive_warper(lookup_value, child, new_acum):\n",
    "                yield ret_val\n",
    "    return recursive_warper"
   ]
  },
  {
   "cell_type": "code",
   "execution_count": 44,
   "metadata": {},
   "outputs": [],
   "source": [
    "dag = {\n",
    "    'data': 'A',\n",
    "    'children': [\n",
    "        {\n",
    "            'data': 'B',\n",
    "            'children': [\n",
    "                {'data': 'D1', 'children': []},\n",
    "                {'data': 'E', 'children': []}\n",
    "            ]\n",
    "        },\n",
    "        {\n",
    "            'data': 'C',\n",
    "            'children': [\n",
    "                {'data': 'F', 'children': []},\n",
    "                {'data': 'D2', 'children': [{'data': 'D3', 'children': []}]},\n",
    "                {\n",
    "                    'data': 'H', \n",
    "                    'children': [{'data': 'D4', 'children': []}]\n",
    "                }\n",
    "            ]\n",
    "        }\n",
    "    ]\n",
    "}"
   ]
  },
  {
   "cell_type": "code",
   "execution_count": 45,
   "metadata": {},
   "outputs": [
    {
     "name": "stdout",
     "output_type": "stream",
     "text": [
      "Visited node: D1 children of ['A', 'B']\n",
      "Visited node: D2 children of ['A', 'C']\n",
      "Visited node: D3 children of ['A', 'C', 'D2']\n",
      "Visited node: D4 children of ['A', 'C', 'H']\n"
     ]
    }
   ],
   "source": [
    "for _ in print_nodes(n=\"D\", node=dag):\n",
    "    pass"
   ]
  }
 ],
 "metadata": {
  "kernelspec": {
   "display_name": "Python 3",
   "language": "python",
   "name": "python3"
  },
  "language_info": {
   "codemirror_mode": {
    "name": "ipython",
    "version": 3
   },
   "file_extension": ".py",
   "mimetype": "text/x-python",
   "name": "python",
   "nbconvert_exporter": "python",
   "pygments_lexer": "ipython3",
   "version": "3.10.6"
  }
 },
 "nbformat": 4,
 "nbformat_minor": 2
}
